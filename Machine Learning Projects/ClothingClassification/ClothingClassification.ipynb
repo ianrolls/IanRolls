{
 "cells": [
  {
   "cell_type": "code",
   "execution_count": 1,
   "id": "bd9335d7-a8c8-42a9-bc66-9a2313934def",
   "metadata": {},
   "outputs": [],
   "source": [
    "import pandas as pd\n",
    "import matplotlib.pyplot as plt\n",
    "import numpy as np\n",
    "import scipy.stats\n",
    "import seaborn as sns\n",
    "\n",
    "from sklearn.metrics import confusion_matrix, f1_score"
   ]
  },
  {
   "cell_type": "code",
   "execution_count": 2,
   "id": "8e25d16f-c143-4fcc-bc02-524fb986cc9e",
   "metadata": {},
   "outputs": [],
   "source": [
    "import gzip\n",
    "\n",
    "def load_fashion_mnist():\n",
    "    \"\"\"\n",
    "    Loads Fashion MNIST dataset.\n",
    "    \n",
    "    Adapted from: https://github.com/zalandoresearch/fashion-mnist/blob/master/utils/mnist_reader.py\n",
    "    \"\"\"\n",
    "    TRAIN_IMAGES = 'train-images-idx3-ubyte.gz'\n",
    "    TRAIN_LABELS = 'train-labels-idx1-ubyte.gz'    \n",
    "    TEST_IMAGES = 't10k-images-idx3-ubyte.gz'\n",
    "    TEST_LABELS = 't10k-labels-idx1-ubyte.gz'\n",
    "\n",
    "    with gzip.open(TRAIN_LABELS, 'rb') as tr_labels_file, gzip.open(TEST_LABELS, 'rb') as ts_labels_file:\n",
    "        train_labels = np.frombuffer(tr_labels_file.read(), dtype=np.uint8, offset=8)\n",
    "        test_labels = np.frombuffer(ts_labels_file.read(), dtype=np.uint8, offset=8)\n",
    "\n",
    "    with gzip.open(TRAIN_IMAGES, 'rb') as tr_images_file, gzip.open(TEST_IMAGES, 'rb') as ts_images_file:\n",
    "        train_images = np.frombuffer(tr_images_file.read(), dtype=np.uint8, offset=16).reshape(len(train_labels), 784)\n",
    "        test_images = np.frombuffer(ts_images_file.read(), dtype=np.uint8, offset=16).reshape(len(test_labels), 784)\n",
    "\n",
    "    return train_images, train_labels, test_images, test_labels"
   ]
  },
  {
   "cell_type": "code",
   "execution_count": 3,
   "id": "1b454d85-f0be-45f0-87eb-f1277d2554d5",
   "metadata": {},
   "outputs": [
    {
     "name": "stdout",
     "output_type": "stream",
     "text": [
      "(60000,)\n",
      "(60000, 784)\n",
      "(10000, 784)\n",
      "(array([0, 1, 2, 3, 4, 5, 6, 7, 8, 9], dtype=uint8), array([6000, 6000, 6000, 6000, 6000, 6000, 6000, 6000, 6000, 6000]))\n"
     ]
    }
   ],
   "source": [
    "from sklearn.model_selection import cross_val_score\n",
    "train_images, train_labels, test_images, test_labels = load_fashion_mnist()\n",
    "print(train_labels.shape)\n",
    "print(train_images.shape)\n",
    "print(test_images.shape)\n",
    "print(np.unique(train_labels, return_counts=True))\n",
    "\n",
    "#Randomly shuffle arrays\n",
    "p = np.random.permutation(len(train_images))\n",
    "train_images = train_images[p]\n",
    "train_labels = train_labels[p]"
   ]
  },
  {
   "cell_type": "code",
   "execution_count": 54,
   "id": "21c921a2-3196-4c7f-a35f-cacec3a57472",
   "metadata": {},
   "outputs": [
    {
     "name": "stdout",
     "output_type": "stream",
     "text": [
      "(60000, 28, 28)\n"
     ]
    }
   ],
   "source": [
    "#Image Filtering\n",
    "from scipy import ndimage as ndi\n",
    "from skimage.util import random_noise\n",
    "from skimage import feature\n",
    "\n",
    "#Canny Edge Detector\n",
    "train_images_reshape = np.reshape(train_images, (len(train_images), 28,28))\n",
    "train_images_canny = np.zeros((60000, 28, 28))\n",
    "for i in range(60000):\n",
    "    train_images_canny[i] = feature.canny(train_images_reshape[i])\n",
    "\n",
    "print(train_images_canny.shape)\n",
    "\n",
    "#For the test images\n",
    "test_images_reshape = np.reshape(test_images, (len(test_images), 28,28))\n",
    "test_images_canny = np.zeros((10000, 28, 28))\n",
    "for i in range(10000):\n",
    "    test_images_canny[i] = feature.canny(test_images_reshape[i])"
   ]
  },
  {
   "cell_type": "code",
   "execution_count": 25,
   "id": "2b709fb5-fb1e-476b-a1d8-e863d2710135",
   "metadata": {},
   "outputs": [
    {
     "name": "stdout",
     "output_type": "stream",
     "text": [
      "3\n"
     ]
    },
    {
     "data": {
      "image/png": "[encoded data removed]",
      "text/plain": [
       "<Figure size 576x216 with 2 Axes>"
      ]
     },
     "metadata": {
      "needs_background": "light"
     },
     "output_type": "display_data"
    }
   ],
   "source": [
    "fig, ax = plt.subplots(nrows=1, ncols=2, figsize=(8, 3))\n",
    "i = 9\n",
    "ax[0].imshow(train_images_canny[i], cmap='gray')\n",
    "ax[1].imshow(train_images_reshape[i], cmap='gray')\n",
    "print(train_labels[i])"
   ]
  },
  {
   "cell_type": "code",
   "execution_count": 46,
   "id": "d52603dc-f0bb-4d4e-ba41-9090cae0bf14",
   "metadata": {},
   "outputs": [
    {
     "name": "stdout",
     "output_type": "stream",
     "text": [
      "CV score: 0.8555123253330047 +/- 0.006114795014463742\n",
      "0.852424646323016\n"
     ]
    }
   ],
   "source": [
    "#KNN model\n",
    "from sklearn.neighbors import KNeighborsClassifier\n",
    "from sklearn.metrics import confusion_matrix\n",
    "from sklearn.metrics import f1_score, mean_squared_error\n",
    "\n",
    "k = 8\n",
    "\n",
    "knn = KNeighborsClassifier(n_neighbors=k)\n",
    "knn.fit(train_images[0:60000], train_labels[0:60000])\n",
    "scores = cross_val_score(knn, train_images[0:60000], train_labels[0:60000], cv=10, scoring='f1_macro', error_score=\"raise\")\n",
    "print('CV score:', scores.mean(), \"+/-\", scores.std())\n",
    "y_pred = knn.predict(test_images)\n",
    "final_score = f1_score(y_pred, test_labels, average='macro')\n",
    "print(final_score)\n",
    "# cf_matrix = confusion_matrix(train_labels[0:10000], y_pred[0:10000])\n",
    "\n",
    "\n",
    "\n",
    "# color_pallete = sns.diverging_palette(220, 20, as_cmap=True)\n",
    "# x_labels = [\"T-shirt/top\", \"Trouser\", \"Pullover\", \"Dress\", \"Coat\", \"Sandal\", \"Shirt\", \"Sneaker\", \"Bag\", \"Ankle boot\"]\n",
    "# y_labels = x_labels\n",
    "# sns.heatmap(cf_matrix, cmap=color_pallete, center=0, square=True, annot =True, fmt='g', xticklabels=x_labels, yticklabels=y_labels)\n",
    "# plt.gcf().set_size_inches(15, 10)\n",
    "# plt.savefig('basic_knn_cmatrix.pdf', bbox_inches='tight')"
   ]
  },
  {
   "cell_type": "code",
   "execution_count": 32,
   "id": "ff2f5ce4-b471-4da5-a158-9882c16fa955",
   "metadata": {},
   "outputs": [
    {
     "data": {
      "image/png": "[encoded data removed]",
      "text/plain": [
       "<Figure size 432x288 with 1 Axes>"
      ]
     },
     "metadata": {
      "needs_background": "light"
     },
     "output_type": "display_data"
    }
   ],
   "source": [
    "#Tuning K Parameter\n",
    "\n",
    "k_lst = []\n",
    "f1_lst = []\n",
    "\n",
    "for k in range(1,30):\n",
    "    k_lst.append(k)\n",
    "    knn = KNeighborsClassifier(n_neighbors=k)\n",
    "    knn.fit(train_images[0:1000], train_labels[0:1000])\n",
    "    scores = cross_val_score(knn, train_images[0:1000], train_labels[0:1000], cv=10, scoring='f1_macro', error_score=\"raise\")\n",
    "    f1_lst.append(scores.mean())\n",
    "\n",
    "plt.plot(k_lst, f1_lst)\n",
    "plt.xlabel('Number of Neighbors (k)')\n",
    "plt.ylabel('F1 Score of Model')\n",
    "plt.title('Hyperparameter Tuning: k (Basic Model)')\n",
    "plt.show\n",
    "plt.savefig('tuning_k_basic.pdf', bbox_inches='tight')"
   ]
  },
  {
   "cell_type": "code",
   "execution_count": 61,
   "id": "dc032ae2-fd11-437f-a607-e04efa83f0f6",
   "metadata": {},
   "outputs": [
    {
     "name": "stdout",
     "output_type": "stream",
     "text": [
      "0.783498163401232\n",
      "0.7742958250021476\n"
     ]
    }
   ],
   "source": [
    "#Logistic model\n",
    "from sklearn.linear_model import LogisticRegressionCV\n",
    "from sklearn.metrics import f1_score, mean_squared_error\n",
    "\n",
    "logReg = LogisticRegressionCV(Cs=[0.001, 0.002, 0.003, 0.01, 0.1, 1, 10, 100, 1000], solver='newton-cg', cv=5, scoring=\"f1_macro\")\n",
    "logReg.fit(train_images[0:500], train_labels[0:500])\n",
    "\n",
    "score = logReg.score(train_images, train_labels)\n",
    "print(score)\n",
    "\n",
    "y_pred = logReg.predict(test_images)\n",
    "final_score = f1_score(y_pred, test_labels, average='macro')\n",
    "print(final_score)"
   ]
  },
  {
   "cell_type": "code",
   "execution_count": 35,
   "id": "ac50490a-6e8c-49da-9ac0-52393624a2aa",
   "metadata": {},
   "outputs": [
    {
     "name": "stdout",
     "output_type": "stream",
     "text": [
      "f1_score dummy:  0.01818181818181818\n",
      "MSE_score dummy:  28.5\n",
      "f1_score dummy:  0.01818181818181818\n",
      "MSE_score dummy:  28.5\n"
     ]
    }
   ],
   "source": [
    "# Baseline Model for Comparison\n",
    "from sklearn.dummy import DummyClassifier\n",
    "\n",
    "dummy_clf = DummyClassifier(strategy='most_frequent')\n",
    "dummy_clf.fit(train_images, train_labels)\n",
    "scores = f1_score(dummy_clf.predict(train_images), train_labels, average='macro')\n",
    "print(\"f1_score dummy: \" ,scores.mean())\n",
    "scores = mean_squared_error(dummy_clf.predict(train_images), train_labels)\n",
    "print(\"MSE_score dummy: \", scores.mean())\n",
    "\n",
    "dummy_clf.fit(train_images_canny, train_labels[0:60000])\n",
    "scores = f1_score(dummy_clf.predict(train_images), train_labels, average='macro')\n",
    "print(\"f1_score dummy: \" ,scores.mean())\n",
    "scores = mean_squared_error(dummy_clf.predict(train_images), train_labels)\n",
    "print(\"MSE_score dummy: \", scores.mean())"
   ]
  },
  {
   "cell_type": "code",
   "execution_count": 36,
   "id": "e2acc93f-eae7-4e87-9717-403f8e159c4e",
   "metadata": {},
   "outputs": [
    {
     "data": {
      "image/png": "[encoded data removed]",
      "text/plain": [
       "<Figure size 432x288 with 1 Axes>"
      ]
     },
     "metadata": {
      "needs_background": "light"
     },
     "output_type": "display_data"
    }
   ],
   "source": [
    "#Tuning K Parameter - Canny Model\n",
    "train_images_canny = np.reshape(train_images_canny, (len(train_images_canny), 28*28))\n",
    "\n",
    "k_lst = []\n",
    "f1_lst = []\n",
    "\n",
    "for k in range(1,30):\n",
    "    k_lst.append(k)\n",
    "    knn = KNeighborsClassifier(n_neighbors=k)\n",
    "    knn.fit(train_images_canny[0:1000], train_labels[0:1000])\n",
    "    scores = cross_val_score(knn, train_images_canny[0:1000], train_labels[0:1000], cv=10, scoring='f1_macro', error_score=\"raise\")\n",
    "    f1_lst.append(scores.mean())\n",
    "\n",
    "plt.plot(k_lst, f1_lst)\n",
    "plt.xlabel('Number of Neighbors (k)')\n",
    "plt.ylabel('F1 Score of Model')\n",
    "plt.title('Hyperparameter Tuning: k (Edge Detection)')\n",
    "plt.show\n",
    "plt.savefig('tuning_k_canny.pdf', bbox_inches='tight')"
   ]
  },
  {
   "cell_type": "code",
   "execution_count": 55,
   "id": "ebbf74bb-2680-4d63-b520-ef67accddfa6",
   "metadata": {},
   "outputs": [
    {
     "name": "stdout",
     "output_type": "stream",
     "text": [
      "CV score: 0.804531507269879 +/- 0.005321997459865284\n",
      "0.8011034707637258\n"
     ]
    }
   ],
   "source": [
    "#KNN model - Canny\n",
    "train_images_canny = np.reshape(train_images_canny, (len(train_images_canny), 28*28))\n",
    "test_images_canny = np.reshape(test_images_canny, (len(test_images_canny), 28*28))\n",
    "\n",
    "k = 5\n",
    "\n",
    "knn = KNeighborsClassifier(n_neighbors=k)\n",
    "knn.fit(train_images_canny[0:60000], train_labels[0:60000])\n",
    "scores = cross_val_score(knn, train_images_canny[0:60000], train_labels[0:60000], cv=10, scoring='f1_macro', error_score=\"raise\")\n",
    "print('CV score:', scores.mean(), \"+/-\", scores.std())\n",
    "# y_pred = knn.predict(train_images_canny[0:60000])\n",
    "# cf_matrix = confusion_matrix(train_labels[0:60000], y_pred)\n",
    "\n",
    "y_pred = knn.predict(test_images_canny)\n",
    "final_score = f1_score(y_pred, test_labels, average='macro')\n",
    "print(final_score)\n",
    "\n",
    "#PLT Heatmap\n",
    "# color_pallete = sns.diverging_palette(220, 20, as_cmap=True)\n",
    "# x_labels = [\"T-shirt/top\", \"Trouser\", \"Pullover\", \"Dress\", \"Coat\", \"Sandal\", \"Shirt\", \"Sneaker\", \"Bag\", \"Ankle boot\"]\n",
    "# y_labels = x_labels\n",
    "# sns.heatmap(cf_matrix, cmap=color_pallete, center=0, square=True, annot =True, fmt='g', xticklabels=x_labels, yticklabels=y_labels)\n",
    "# plt.gcf().set_size_inches(15, 10)\n",
    "# plt.savefig('canny_knn_cmatrix.pdf', bbox_inches='tight')"
   ]
  },
  {
   "cell_type": "code",
   "execution_count": 60,
   "id": "f021f92a-2b25-4b5e-abd4-95c5e10197af",
   "metadata": {},
   "outputs": [
    {
     "name": "stdout",
     "output_type": "stream",
     "text": [
      "0.6922436279298049\n",
      "0.6788915463831842\n"
     ]
    }
   ],
   "source": [
    "#Logistic model - Canny\n",
    "train_images_canny = np.reshape(train_images_canny, (len(train_images_canny),28*28))\n",
    "\n",
    "logReg = LogisticRegressionCV(Cs=[0.001, 0.002, 0.003, 0.01, 0.1, 1, 10, 100, 1000], solver='newton-cg', cv=5, scoring=\"f1_macro\")\n",
    "logReg.fit(train_images_canny[0:500], train_labels[0:500])\n",
    "\n",
    "score = logReg.score(train_images_canny, train_labels[0:60000])\n",
    "print(score)\n",
    "\n",
    "y_pred = logReg.predict(test_images_canny)\n",
    "final_score = f1_score(y_pred, test_labels, average='macro')\n",
    "print(final_score)"
   ]
  },
  {
   "cell_type": "code",
   "execution_count": 39,
   "id": "b4fcfed1-55e1-4cbc-ae26-9609f19f91e7",
   "metadata": {},
   "outputs": [],
   "source": [
    "#Tuning K Parameter - Combined Model\n",
    "\n",
    "k_lst = []\n",
    "f1_lst = []\n",
    "\n",
    "for k in range(1,30):\n",
    "    k_lst.append(k)\n",
    "    knn = KNeighborsClassifier(n_neighbors=k)\n",
    "    knn.fit(train_images_combine[0:1000], train_labels[0:1000])\n",
    "    scores = cross_val_score(knn, train_images_combine[0:1000], train_labels[0:1000], cv=10, scoring='f1_macro', error_score=\"raise\")\n",
    "    f1_lst.append(scores.mean())\n",
    "\n",
    "# plt.plot(k_lst, f1_lst)\n",
    "# plt.xlabel('Number of Neighbors (k)')\n",
    "# plt.ylabel('F1 Score of Model')\n",
    "# plt.title('Hyperparameter Tuning: k (Edge Detection)')\n",
    "# plt.show\n",
    "# plt.savefig('tuning_k_combine.pdf', bbox_inches='tight')"
   ]
  },
  {
   "cell_type": "code",
   "execution_count": 56,
   "id": "b3c38092-ba67-462d-aa15-55199f4f98d9",
   "metadata": {},
   "outputs": [
    {
     "name": "stdout",
     "output_type": "stream",
     "text": [
      "CV score: 0.8550940472160405 +/- 0.005217480609303425\n",
      "0.8546439722018905\n"
     ]
    }
   ],
   "source": [
    "#Combining Canny and Basic\n",
    "\n",
    "train_images_canny = np.reshape(train_images_canny, (len(train_images_canny), 28*28))\n",
    "train_images_combine = np.concatenate((train_images_canny, train_images[0:60000]), axis=1)\n",
    "test_images_combine = np.concatenate((test_images_canny, test_images[0:10000]), axis=1)\n",
    "\n",
    "k = 5\n",
    "\n",
    "knn = KNeighborsClassifier(n_neighbors=k)\n",
    "knn.fit(train_images_combine, train_labels[0:60000])\n",
    "scores = cross_val_score(knn, train_images_combine[0:60000], train_labels[0:60000], cv=10, scoring='f1_macro', error_score=\"raise\")\n",
    "print('CV score:', scores.mean(), \"+/-\", scores.std())\n",
    "# y_pred = knn.predict(train_images_combine[0:60000])\n",
    "# cf_matrix = confusion_matrix(train_labels[0:10000], y_pred[0:10000])\n",
    "y_pred = knn.predict(test_images_combine)\n",
    "final_score = f1_score(y_pred, test_labels, average='macro')\n",
    "print(final_score)\n",
    "\n",
    "#PLT Heatmap\n",
    "# color_pallete = sns.diverging_palette(220, 20, as_cmap=True)\n",
    "# x_labels = [\"T-shirt/top\", \"Trouser\", \"Pullover\", \"Dress\", \"Coat\", \"Sandal\", \"Shirt\", \"Sneaker\", \"Bag\", \"Ankle boot\"]\n",
    "# y_labels = x_labels\n",
    "# sns.heatmap(cf_matrix, cmap=color_pallete, center=0, square=True, annot =True, fmt='g', xticklabels=x_labels, yticklabels=y_labels)\n",
    "# plt.gcf().set_size_inches(15, 10)\n",
    "# plt.savefig('combined_knn_cmatrix.pdf', bbox_inches='tight')"
   ]
  },
  {
   "cell_type": "code",
   "execution_count": 59,
   "id": "62f3859b-2177-4509-8794-907ee736584d",
   "metadata": {},
   "outputs": [
    {
     "name": "stdout",
     "output_type": "stream",
     "text": [
      "0.7834975512447191\n",
      "0.7743912142714162\n"
     ]
    }
   ],
   "source": [
    "#Logistic model - Combined\n",
    "\n",
    "logReg = LogisticRegressionCV(Cs=[0.001, 0.002, 0.003, 0.01, 0.1, 1, 10, 100, 1000], solver='newton-cg', cv=5, scoring=\"f1_macro\")\n",
    "logReg.fit(train_images_combine[0:500], train_labels[0:500])\n",
    "\n",
    "score = logReg.score(train_images_combine, train_labels[0:60000])\n",
    "print(score)\n",
    "\n",
    "y_pred = logReg.predict(test_images_combine)\n",
    "final_score = f1_score(y_pred, test_labels, average='macro')\n",
    "print(final_score)\n"
   ]
  },
  {
   "cell_type": "code",
   "execution_count": null,
   "id": "969f5a24-10c6-4fd3-a8e4-2321d8bda37f",
   "metadata": {},
   "outputs": [],
   "source": []
  }
 ],
 "metadata": {
  "kernelspec": {
   "display_name": "Python 3.8",
   "language": "python",
   "name": "python3"
  },
  "language_info": {
   "codemirror_mode": {
    "name": "ipython",
    "version": 3
   },
   "file_extension": ".py",
   "mimetype": "text/x-python",
   "name": "python",
   "nbconvert_exporter": "python",
   "pygments_lexer": "ipython3",
   "version": "3.8.6"
  }
 },
 "nbformat": 4,
 "nbformat_minor": 5
}
