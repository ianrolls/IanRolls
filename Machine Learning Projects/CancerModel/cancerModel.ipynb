{
 "cells": [
  {
   "cell_type": "code",
   "execution_count": 92,
   "id": "e405e9c7-905a-44e4-96a8-6bd58329338f",
   "metadata": {},
   "outputs": [],
   "source": [
    "import numpy as np\n",
    "import pandas as pd"
   ]
  },
  {
   "cell_type": "code",
   "execution_count": 101,
   "id": "2667884e-4c2f-4e2c-b036-9a15f14ffe9d",
   "metadata": {},
   "outputs": [],
   "source": [
    "#Read in the data\n",
    "df = pd.read_csv('cancerDataframe.csv')\n",
    "\n",
    "#Feature selection\n",
    "percentile = np.percentile(df.iloc[:,2:], 80, axis=0)\n",
    "percentile = np.reshape(percentile, (1, len(percentile)))\n",
    "np_df = df.iloc[:,2:].to_numpy()\n",
    "np_first2 = df.iloc[:,0:2].to_numpy()\n",
    "\n",
    "boolean = 1 * (np_df >= percentile)\n",
    "boolean.shape\n",
    "boolean = np.concatenate((np_first2, boolean), axis=1)\n",
    "\n",
    "df_top20 = pd.DataFrame(boolean, columns = df.columns)"
   ]
  },
  {
   "cell_type": "code",
   "execution_count": 106,
   "id": "6d47116b-852b-4f6b-88f7-24f72dbbd162",
   "metadata": {},
   "outputs": [],
   "source": [
    "#Split the data\n",
    "from sklearn.model_selection import train_test_split, cross_val_score\n",
    "\n",
    "X = df_top20.iloc[:,2:]\n",
    "y = df.iloc[:,0]\n",
    "X_train, X_test, y_train, y_test = train_test_split(X, y, test_size=0.25, random_state=42)"
   ]
  },
  {
   "cell_type": "code",
   "execution_count": 107,
   "id": "bba9f638-8610-4aea-98b5-f5a2b7f6038e",
   "metadata": {},
   "outputs": [
    {
     "name": "stdout",
     "output_type": "stream",
     "text": [
      "CV score: 0.8526831395276073 +/- 0.030498772864289213\n"
     ]
    }
   ],
   "source": [
    "from sklearn.neighbors import KNeighborsClassifier\n",
    "from sklearn.metrics import confusion_matrix\n",
    "from sklearn.metrics import f1_score, mean_squared_error\n",
    "\n",
    "k = 3\n",
    "\n",
    "knn = KNeighborsClassifier(n_neighbors=k)\n",
    "knn.fit(X_train, y_train)\n",
    "scores = cross_val_score(knn, X_train, y_train, cv=10, scoring='f1_macro', error_score=\"raise\")\n",
    "print('CV score:', scores.mean(), \"+/-\", scores.std())\n",
    "\n",
    "\n",
    "#y_pred = knn.predict(test_images)\n",
    "#final_score = f1_score(y_pred, test_labels, average='macro')\n",
    "#print(final_score)\n"
   ]
  },
  {
   "cell_type": "code",
   "execution_count": null,
   "id": "ea831d60-fc99-4c05-8656-c863695d7bef",
   "metadata": {},
   "outputs": [],
   "source": []
  }
 ],
 "metadata": {
  "kernelspec": {
   "display_name": "Python 3.8",
   "language": "python",
   "name": "python3"
  },
  "language_info": {
   "codemirror_mode": {
    "name": "ipython",
    "version": 3
   },
   "file_extension": ".py",
   "mimetype": "text/x-python",
   "name": "python",
   "nbconvert_exporter": "python",
   "pygments_lexer": "ipython3",
   "version": "3.8.6"
  }
 },
 "nbformat": 4,
 "nbformat_minor": 5
}
