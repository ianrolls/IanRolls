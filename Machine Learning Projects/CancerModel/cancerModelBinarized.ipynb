{
 "cells": [
  {
   "cell_type": "code",
   "execution_count": 1,
   "id": "e405e9c7-905a-44e4-96a8-6bd58329338f",
   "metadata": {},
   "outputs": [],
   "source": [
    "import numpy as np\n",
    "import pandas as pd\n",
    "import matplotlib.pyplot as plt\n",
    "import scipy.stats\n",
    "import seaborn as sns\n",
    "from warnings import simplefilter\n",
    "from sklearn.exceptions import ConvergenceWarning\n",
    "simplefilter(\"ignore\", category=ConvergenceWarning)\n",
    "from sklearn.model_selection import GridSearchCV"
   ]
  },
  {
   "cell_type": "code",
   "execution_count": 2,
   "id": "41cc83c9-cefc-40c3-bc11-f15ff316d887",
   "metadata": {},
   "outputs": [],
   "source": [
    "#Read in the data\n",
    "df = pd.read_csv('cancerDataframe.csv')\n",
    "\n",
    "#Feature selection\n",
    "percentile = np.percentile(df.iloc[:,2:], 80, axis=0)\n",
    "percentile = np.reshape(percentile, (1, len(percentile)))\n",
    "np_df = df.iloc[:,2:].to_numpy()\n",
    "np_first2 = df.iloc[:,0:2].to_numpy()\n",
    "\n",
    "boolean = 1 * (np_df >= percentile)\n",
    "boolean.shape\n",
    "boolean = np.concatenate((np_first2, boolean), axis=1)\n",
    "\n",
    "df_top20 = pd.DataFrame(boolean, columns = df.columns)"
   ]
  },
  {
   "cell_type": "code",
   "execution_count": 3,
   "id": "6f3f136c-9fa4-4fed-bcc3-027fa8afccab",
   "metadata": {},
   "outputs": [
    {
     "name": "stdout",
     "output_type": "stream",
     "text": [
      "[1096  544  519  478  178   80]\n"
     ]
    },
    {
     "data": {
      "text/plain": [
       "(2895, 1883)"
      ]
     },
     "execution_count": 3,
     "metadata": {},
     "output_type": "execute_result"
    }
   ],
   "source": [
    "print(np.bincount(df_top20.iloc[:,0]))\n",
    "np.shape(df_top20)"
   ]
  },
  {
   "cell_type": "code",
   "execution_count": 4,
   "id": "6d47116b-852b-4f6b-88f7-24f72dbbd162",
   "metadata": {},
   "outputs": [],
   "source": [
    "#Split the data\n",
    "from sklearn.model_selection import train_test_split, cross_val_score\n",
    "\n",
    "X = df_top20.iloc[:,2:]\n",
    "y = df.iloc[:,0]\n",
    "X_train, X_test, y_train, y_test = train_test_split(X, y, test_size=0.25, random_state=42, stratify=y)"
   ]
  },
  {
   "cell_type": "code",
   "execution_count": 5,
   "id": "bba9f638-8610-4aea-98b5-f5a2b7f6038e",
   "metadata": {},
   "outputs": [
    {
     "name": "stdout",
     "output_type": "stream",
     "text": [
      "CV score: 0.8353335117386024 +/- 0.01888265190826474\n"
     ]
    }
   ],
   "source": [
    "from sklearn.neighbors import KNeighborsClassifier\n",
    "from sklearn.metrics import confusion_matrix\n",
    "from sklearn.metrics import f1_score, mean_squared_error\n",
    "\n",
    "kn = 3\n",
    "\n",
    "knn = KNeighborsClassifier(n_neighbors=kn)\n",
    "#knn.fit(X_train, y_train)\n",
    "scores = cross_val_score(knn, X_train, y_train, cv=10, scoring='f1_macro', error_score=\"raise\")\n",
    "print('CV score:', scores.mean(), \"+/-\", scores.std())\n",
    "\n",
    "\n",
    "#y_pred = knn.predict(test_images)\n",
    "#final_score = f1_score(y_pred, test_labels, average='macro')\n",
    "#print(final_score)"
   ]
  },
  {
   "cell_type": "code",
   "execution_count": 6,
   "id": "80fe4853-8ae5-4335-8b31-49ab33c905c7",
   "metadata": {},
   "outputs": [
    {
     "data": {
      "image/png": "[encoded data removed]",
      "text/plain": [
       "<Figure size 432x288 with 1 Axes>"
      ]
     },
     "metadata": {
      "needs_background": "light"
     },
     "output_type": "display_data"
    }
   ],
   "source": [
    "#Tuning\n",
    "k_lst = []\n",
    "f1_lst = []\n",
    "\n",
    "for k in range(1,30):\n",
    "    k_lst.append(k)\n",
    "    knn = KNeighborsClassifier(n_neighbors=k)\n",
    "    knn.fit(X_train, y_train)\n",
    "    scores = cross_val_score(knn, X_train, y_train, cv=10, scoring='f1_macro', error_score=\"raise\")\n",
    "    f1_lst.append(scores.mean())\n",
    "\n",
    "plt.plot(k_lst, f1_lst)\n",
    "plt.xlabel('Number of Neighbors (k)')\n",
    "plt.ylabel('F1 Score of Model')\n",
    "plt.title('Hyperparameter Tuning: k (Basic Model)')\n",
    "plt.show\n",
    "plt.savefig('tuning_k_basic.pdf', bbox_inches='tight')"
   ]
  },
  {
   "cell_type": "code",
   "execution_count": 7,
   "id": "ea831d60-fc99-4c05-8656-c863695d7bef",
   "metadata": {},
   "outputs": [
    {
     "name": "stdout",
     "output_type": "stream",
     "text": [
      "0.9709285396475515\n"
     ]
    }
   ],
   "source": [
    "from sklearn.linear_model import SGDClassifier\n",
    "from sklearn.metrics import confusion_matrix\n",
    "model = SGDClassifier(loss = 'log_loss')\n",
    "\n",
    "scores = cross_val_score(model, X_train, y_train, cv=10, scoring='f1_macro', error_score=\"raise\")\n",
    "print(scores.mean())"
   ]
  },
  {
   "cell_type": "code",
   "execution_count": 21,
   "id": "e04d9829-29d6-4dee-8472-1d63362681af",
   "metadata": {},
   "outputs": [
    {
     "name": "stdout",
     "output_type": "stream",
     "text": [
      "mean_fit_time\n",
      "[1.13765976 1.12659061 1.08628528 1.12465315 1.0955503  0.81959143\n",
      " 0.8368938  0.82741821 0.81903243 0.81364927 0.67261834 0.6527633\n",
      " 0.64640207 0.66149666 0.68131807 0.6688761  0.66865158 0.65489209\n",
      " 0.68242853 0.67904408 0.58642957 0.58164973 0.58267736 0.58921232\n",
      " 0.58804946]\n",
      "std_fit_time\n",
      "[0.07600158 0.07406215 0.05948161 0.03358453 0.06590348 0.0269901\n",
      " 0.01984593 0.03681423 0.02839766 0.03028866 0.03405503 0.0295969\n",
      " 0.03613978 0.03612913 0.02662815 0.0246373  0.03340256 0.02201278\n",
      " 0.03989543 0.04373694 0.02090591 0.01408655 0.01478918 0.01303591\n",
      " 0.01667294]\n",
      "mean_score_time\n",
      "[0.02274795 0.02451022 0.02365167 0.02284532 0.02262554 0.02270896\n",
      " 0.02266204 0.02276781 0.02264907 0.02275305 0.02264614 0.02266827\n",
      " 0.02278504 0.02300446 0.02285831 0.02267816 0.02264602 0.022686\n",
      " 0.02286685 0.02264912 0.02268963 0.02267258 0.02267056 0.02303865\n",
      " 0.0226922 ]\n",
      "std_score_time\n",
      "[1.98348892e-04 5.38516033e-03 2.53262501e-03 3.15300378e-04\n",
      " 1.13616707e-04 9.85125287e-05 7.65147033e-05 2.99690038e-04\n",
      " 1.29170885e-04 1.84816073e-04 7.96622658e-05 4.89390592e-05\n",
      " 2.98242073e-04 4.91813056e-04 2.82163791e-04 1.35066448e-04\n",
      " 1.37172304e-04 1.14754902e-04 3.15063206e-04 9.82433864e-05\n",
      " 1.44684322e-04 8.20849961e-05 1.98021918e-04 1.13462557e-03\n",
      " 1.32837025e-04]\n",
      "param_alpha\n",
      "[0.0001 0.0001 0.0001 0.0001 0.0001 0.01 0.01 0.01 0.01 0.01 0.1 0.1 0.1\n",
      " 0.1 0.1 1.0 1.0 1.0 1.0 1.0 10 10 10 10 10]\n",
      "param_eta0\n",
      "[0 0.001 0.01 0.1 1.0 0 0.001 0.01 0.1 1.0 0 0.001 0.01 0.1 1.0 0 0.001\n",
      " 0.01 0.1 1.0 0 0.001 0.01 0.1 1.0]\n",
      "param_penalty\n",
      "['l2' 'l2' 'l2' 'l2' 'l2' 'l2' 'l2' 'l2' 'l2' 'l2' 'l2' 'l2' 'l2' 'l2'\n",
      " 'l2' 'l2' 'l2' 'l2' 'l2' 'l2' 'l2' 'l2' 'l2' 'l2' 'l2']\n",
      "params\n",
      "[{'alpha': 0.0001, 'eta0': 0, 'penalty': 'l2'}, {'alpha': 0.0001, 'eta0': 0.001, 'penalty': 'l2'}, {'alpha': 0.0001, 'eta0': 0.01, 'penalty': 'l2'}, {'alpha': 0.0001, 'eta0': 0.1, 'penalty': 'l2'}, {'alpha': 0.0001, 'eta0': 1.0, 'penalty': 'l2'}, {'alpha': 0.01, 'eta0': 0, 'penalty': 'l2'}, {'alpha': 0.01, 'eta0': 0.001, 'penalty': 'l2'}, {'alpha': 0.01, 'eta0': 0.01, 'penalty': 'l2'}, {'alpha': 0.01, 'eta0': 0.1, 'penalty': 'l2'}, {'alpha': 0.01, 'eta0': 1.0, 'penalty': 'l2'}, {'alpha': 0.1, 'eta0': 0, 'penalty': 'l2'}, {'alpha': 0.1, 'eta0': 0.001, 'penalty': 'l2'}, {'alpha': 0.1, 'eta0': 0.01, 'penalty': 'l2'}, {'alpha': 0.1, 'eta0': 0.1, 'penalty': 'l2'}, {'alpha': 0.1, 'eta0': 1.0, 'penalty': 'l2'}, {'alpha': 1.0, 'eta0': 0, 'penalty': 'l2'}, {'alpha': 1.0, 'eta0': 0.001, 'penalty': 'l2'}, {'alpha': 1.0, 'eta0': 0.01, 'penalty': 'l2'}, {'alpha': 1.0, 'eta0': 0.1, 'penalty': 'l2'}, {'alpha': 1.0, 'eta0': 1.0, 'penalty': 'l2'}, {'alpha': 10, 'eta0': 0, 'penalty': 'l2'}, {'alpha': 10, 'eta0': 0.001, 'penalty': 'l2'}, {'alpha': 10, 'eta0': 0.01, 'penalty': 'l2'}, {'alpha': 10, 'eta0': 0.1, 'penalty': 'l2'}, {'alpha': 10, 'eta0': 1.0, 'penalty': 'l2'}]\n",
      "split0_test_score\n",
      "[0.96763124 0.9749186  0.95191027 0.96609093 0.97202277 0.96928704\n",
      " 0.97537801 0.97569594 0.96763124 0.97544787 0.9688562  0.97984121\n",
      " 0.95617769 0.97426553 0.96158418 0.67882102 0.55889962 0.68134048\n",
      " 0.61112727 0.68099427 0.09111111 0.09111111 0.09111111 0.09111111\n",
      " 0.09111111]\n",
      "split1_test_score\n",
      "[0.97167452 0.97502216 0.97795688 0.9806715  0.97270983 0.97724301\n",
      " 0.96723704 0.98016121 0.98019775 0.97161898 0.96104691 0.96387696\n",
      " 0.95419459 0.96306719 0.97171287 0.68513169 0.68270041 0.82267421\n",
      " 0.72388752 0.679228   0.09141583 0.09141583 0.09141583 0.09141583\n",
      " 0.09141583]\n",
      "split2_test_score\n",
      "[0.98402138 0.98402138 0.98402138 0.97726482 0.98402138 0.97638168\n",
      " 0.98402138 0.98402138 0.98402138 0.98402138 0.97231824 0.98087295\n",
      " 0.98402138 0.97219825 0.98087295 0.72360243 0.73518456 0.75564767\n",
      " 0.65486031 0.71732493 0.09141583 0.09141583 0.09141583 0.09141583\n",
      " 0.09141583]\n",
      "split3_test_score\n",
      "[0.96031511 0.94722062 0.95140037 0.96031511 0.9647831  0.96031511\n",
      " 0.96031511 0.9655137  0.96031511 0.95684552 0.9536014  0.94824799\n",
      " 0.94841026 0.95156126 0.95189009 0.56013444 0.81011349 0.61389359\n",
      " 0.69246532 0.6135455  0.09141583 0.09141583 0.09141583 0.09141583\n",
      " 0.09141583]\n",
      "split4_test_score\n",
      "[0.92447599 0.96420274 0.95682985 0.96218254 0.94767755 0.95930558\n",
      " 0.96425234 0.95263199 0.9588597  0.9537604  0.94737941 0.93036831\n",
      " 0.9551269  0.95398673 0.93759747 0.65384284 0.72456822 0.62544397\n",
      " 0.7361138  0.58664692 0.09141583 0.09141583 0.09141583 0.09141583\n",
      " 0.09141583]\n",
      "split5_test_score\n",
      "[0.97363971 0.9376498  0.95655795 0.95676117 0.96475809 0.96331229\n",
      " 0.96920254 0.96475809 0.96604805 0.9735696  0.95403586 0.94810755\n",
      " 0.96254564 0.96816816 0.96608762 0.66240407 0.64889197 0.59520343\n",
      " 0.58743819 0.56543683 0.09141583 0.09141583 0.09141583 0.09141583\n",
      " 0.09141583]\n",
      "split6_test_score\n",
      "[0.96899076 0.91507919 0.97348925 0.96993625 0.96126155 0.96988072\n",
      " 0.95764112 0.96120603 0.92743067 0.96445633 0.94312608 0.95672746\n",
      " 0.92937856 0.95548425 0.95106765 0.6046399  0.69659688 0.69494344\n",
      " 0.70202029 0.74886293 0.09141583 0.09141583 0.09141583 0.09141583\n",
      " 0.09141583]\n",
      "split7_test_score\n",
      "[0.97119847 0.9698855  0.97886147 0.965395   0.96602142 0.95054139\n",
      " 0.97437269 0.96174071 0.97067995 0.96511606 0.94962717 0.95768909\n",
      " 0.9697264  0.96171134 0.96288865 0.63554159 0.73684575 0.64840445\n",
      " 0.62940798 0.59646154 0.09141583 0.09141583 0.09141583 0.09141583\n",
      " 0.09141583]\n",
      "split8_test_score\n",
      "[0.95873773 0.98198198 0.96815137 0.98648402 0.97370704 0.98720624\n",
      " 0.98720624 0.99098441 0.98751949 0.98720624 0.97407296 0.9749866\n",
      " 0.97042382 0.984107   0.96259556 0.72665887 0.64574344 0.6912073\n",
      " 0.66348992 0.69898171 0.09222222 0.09222222 0.09222222 0.09222222\n",
      " 0.09222222]\n",
      "split9_test_score\n",
      "[0.98572294 0.98863589 0.96422086 0.98757686 0.97742349 0.99547484\n",
      " 0.98272815 0.98556355 0.98860499 0.98272815 0.96910189 0.95835426\n",
      " 0.95920527 0.97966494 0.98074399 0.66296765 0.73117264 0.76190852\n",
      " 0.70827738 0.63320615 0.09222222 0.09222222 0.09222222 0.09222222\n",
      " 0.09222222]\n",
      "mean_test_score\n",
      "[0.96664078 0.96386179 0.96633996 0.97126782 0.96843862 0.97089479\n",
      " 0.97223546 0.9722277  0.96913083 0.97147705 0.95931661 0.95990724\n",
      " 0.95892105 0.96642147 0.9627041  0.65937445 0.6970717  0.6890667\n",
      " 0.6709088  0.65206888 0.09154664 0.09154664 0.09154664 0.09154664\n",
      " 0.09154664]\n",
      "std_test_score\n",
      "[0.01627316 0.02230572 0.01131722 0.01047817 0.0094746  0.01289285\n",
      " 0.00969832 0.0120832  0.01731433 0.01081312 0.01065648 0.0149841\n",
      " 0.01385572 0.01055759 0.01277554 0.04812398 0.06479669 0.06917465\n",
      " 0.04739572 0.05841209 0.00034961 0.00034961 0.00034961 0.00034961\n",
      " 0.00034961]\n",
      "rank_test_score\n",
      "[ 8 11 10  4  7  5  1  2  6  3 14 13 15  9 12 19 16 17 18 20 21 21 21 21\n",
      " 21]\n"
     ]
    }
   ],
   "source": [
    "#SGD classifier cross validation\n",
    "parameters = {'penalty':['l2'], 'alpha':[0.0001, 0.01, 0.1, 1.0, 10], 'eta0':[0, 0.001, 0.01, 0.1, 1.0]}\n",
    "svc = SGDClassifier(loss = 'log_loss')\n",
    "clf = GridSearchCV(svc, parameters, scoring='f1_macro', cv=10)\n",
    "clf.fit(X_train, y_train)\n",
    "for key in clf.cv_results_.keys():\n",
    "    print(key)\n",
    "    print(clf.cv_results_.get(key))"
   ]
  },
  {
   "cell_type": "code",
   "execution_count": 13,
   "id": "6a842434-21be-4b56-b633-1557c6df0dc4",
   "metadata": {},
   "outputs": [
    {
     "name": "stdout",
     "output_type": "stream",
     "text": [
      "CV score: 0.9719936923425377 +/- 0.006924937788749169\n"
     ]
    }
   ],
   "source": [
    "from sklearn.svm import LinearSVC\n",
    "\n",
    "def linear():\n",
    "    model = LinearSVC()\n",
    "    scores = cross_val_score(model, X_train, y_train, cv=10, scoring='f1_macro', error_score=\"raise\")\n",
    "    print('CV score:', scores.mean(), \"+/-\", scores.std())\n",
    "    \n",
    "linear()\n",
    "\n",
    "#decrease the max number of iterations"
   ]
  },
  {
   "cell_type": "code",
   "execution_count": 14,
   "id": "fac7d383-e590-465a-806d-060f3884a11b",
   "metadata": {},
   "outputs": [
    {
     "data": {
      "text/plain": [
       "<function matplotlib.pyplot.show(close=None, block=None)>"
      ]
     },
     "execution_count": 14,
     "metadata": {},
     "output_type": "execute_result"
    },
    {
     "data": {
      "image/png": "[encoded data removed]",
      "text/plain": [
       "<Figure size 432x288 with 1 Axes>"
      ]
     },
     "metadata": {
      "needs_background": "light"
     },
     "output_type": "display_data"
    }
   ],
   "source": [
    "#Tuning SVM\n",
    "i = 0.001\n",
    "\n",
    "C_lst = []\n",
    "score_lst = []\n",
    "\n",
    "while i <= 0.01:\n",
    "    C_lst.append(i)\n",
    "    model = LinearSVC(C = i)\n",
    "    scores = cross_val_score(model, X_train, y_train, cv=10, scoring='f1_macro', error_score=\"raise\")\n",
    "    score_lst.append(scores.mean())\n",
    "    i += 0.001\n",
    "    \n",
    "plt.plot(C_lst, score_lst)\n",
    "plt.xlabel('C')\n",
    "plt.ylabel('Cross val score')\n",
    "plt.title('Hyperparameter Tuning: C')\n",
    "plt.show\n"
   ]
  },
  {
   "cell_type": "code",
   "execution_count": 18,
   "id": "14595d21-ee1d-4902-a5bf-955e4b9860c4",
   "metadata": {},
   "outputs": [
    {
     "name": "stdout",
     "output_type": "stream",
     "text": [
      "CV score: 0.9722414526753393 +/- 0.009023049031284125\n"
     ]
    }
   ],
   "source": [
    "from sklearn.svm import SVC\n",
    "from sklearn.model_selection import cross_val_predict\n",
    "\n",
    "model = SVC()\n",
    "scores = cross_val_score(model, X_train, y_train, cv=10, scoring='f1_macro', error_score=\"raise\")\n",
    "print('CV score:', scores.mean(), \"+/-\", scores.std())"
   ]
  },
  {
   "cell_type": "code",
   "execution_count": 20,
   "id": "7270d210-314b-4787-861a-b7a4f428fce5",
   "metadata": {},
   "outputs": [
    {
     "data": {
      "text/plain": [
       "<function matplotlib.pyplot.show(close=None, block=None)>"
      ]
     },
     "execution_count": 20,
     "metadata": {},
     "output_type": "execute_result"
    },
    {
     "data": {
      "image/png": "[encoded data removed]",
      "text/plain": [
       "<Figure size 432x288 with 1 Axes>"
      ]
     },
     "metadata": {
      "needs_background": "light"
     },
     "output_type": "display_data"
    }
   ],
   "source": [
    "#Tuning SVM\n",
    "i = 1.0\n",
    "\n",
    "C_lst = []\n",
    "score_lst = []\n",
    "\n",
    "while i <= 10.0:\n",
    "    C_lst.append(i)\n",
    "    model = SVC(C = i)\n",
    "    scores = cross_val_score(model, X_train, y_train, cv=10, scoring='f1_macro', error_score=\"raise\")\n",
    "    score_lst.append(scores.mean())\n",
    "    i += 1.0\n",
    "    \n",
    "plt.plot(C_lst, score_lst)\n",
    "plt.xlabel('C')\n",
    "plt.ylabel('Cross val score')\n",
    "plt.title('Hyperparameter Tuning: C')\n",
    "plt.show\n",
    "\n",
    "#optimal C: 7.0\n",
    "#grid search kernel width for SVC"
   ]
  },
  {
   "cell_type": "code",
   "execution_count": 23,
   "id": "37a7372d-9ac0-443d-8d9c-81a1c9ad57a1",
   "metadata": {},
   "outputs": [
    {
     "name": "stdout",
     "output_type": "stream",
     "text": [
      "CV score: 0.9621660240025506 +/- 0.007080853586927267\n"
     ]
    }
   ],
   "source": [
    "from sklearn.ensemble import RandomForestClassifier\n",
    "\n",
    "model = RandomForestClassifier()\n",
    "scores = cross_val_score(model, X_train, y_train, cv=10, scoring='f1_macro', error_score=\"raise\")\n",
    "print('CV score:', scores.mean(), \"+/-\", scores.std())"
   ]
  },
  {
   "cell_type": "code",
   "execution_count": 25,
   "id": "9d9c3674-c2cc-437d-a7e5-0e8fdfe81880",
   "metadata": {},
   "outputs": [
    {
     "data": {
      "text/plain": [
       "<function matplotlib.pyplot.show(close=None, block=None)>"
      ]
     },
     "execution_count": 25,
     "metadata": {},
     "output_type": "execute_result"
    },
    {
     "data": {
      "image/png": "[encoded data removed]",
      "text/plain": [
       "<Figure size 432x288 with 1 Axes>"
      ]
     },
     "metadata": {
      "needs_background": "light"
     },
     "output_type": "display_data"
    }
   ],
   "source": [
    "#Tuning Random Forest\n",
    "i = 200\n",
    "\n",
    "n_lst = [] #n_estimators 20-200\n",
    "score_lst = []\n",
    "\n",
    "while i <= 400:\n",
    "    n_lst.append(i)\n",
    "    model = RandomForestClassifier(n_estimators = i)\n",
    "    scores = cross_val_score(model, X_train, y_train, cv=10, scoring='f1_macro', error_score=\"raise\")\n",
    "    score_lst.append(scores.mean())\n",
    "    i += 20\n",
    "\n",
    "plt.plot(n_lst, score_lst)\n",
    "plt.xlabel('n_estimators')\n",
    "plt.ylabel('Cross val score')\n",
    "plt.title('Hyperparameter Tuning: n')\n",
    "plt.show\n",
    "\n",
    "#.968 for n_estimators = 240"
   ]
  },
  {
   "cell_type": "code",
   "execution_count": 27,
   "id": "272fa2cc-42ab-4fb5-8360-94ab6accc96f",
   "metadata": {},
   "outputs": [
    {
     "name": "stdout",
     "output_type": "stream",
     "text": [
      "mean_fit_time\n",
      "[14.67729425  6.19918334  3.91816247  3.97101736  0.90264225 14.88895249\n",
      "  6.03864288  6.63572478  0.94173217  0.80172765 15.71001554 15.77628291\n",
      "  3.00549531 15.86498523  0.82322204 16.87758911 12.39474928  3.20622957\n",
      "  1.81316924  0.82556546 16.95063484  6.57982981  2.2602284   0.80652726\n",
      "  0.77785504]\n",
      "std_fit_time\n",
      "[1.77141428e-01 1.13846064e-02 2.25305200e-01 6.99775696e-01\n",
      " 2.07233429e-02 1.28664494e-01 6.83879852e-02 5.11940956e-01\n",
      " 7.39097595e-05 7.74204731e-03 3.36656570e-02 1.08915389e+00\n",
      " 1.68817759e-01 6.01210594e-01 5.75721264e-03 6.45498037e-02\n",
      " 5.20936608e-01 5.10698915e-01 1.51848793e-02 2.50327587e-03\n",
      " 1.19036436e-02 7.31372952e-01 1.23553276e-02 1.09618902e-02\n",
      " 5.99062443e-03]\n",
      "mean_score_time\n",
      "[0.12627637 0.12625921 0.12575591 0.12559998 0.1256007  0.1259563\n",
      " 0.12649417 0.12572503 0.12558138 0.12491059 0.12635875 0.12633312\n",
      " 0.12578762 0.12596107 0.12582433 0.1261754  0.12660956 0.12573433\n",
      " 0.12619424 0.12552881 0.1266582  0.12583852 0.12635863 0.125718\n",
      " 0.12619519]\n",
      "std_score_time\n",
      "[6.94990158e-05 2.05159187e-04 3.67283821e-04 1.80840492e-04\n",
      " 1.14321709e-04 5.38825989e-04 7.86066055e-04 1.62363052e-04\n",
      " 1.27673149e-04 2.92301178e-04 2.86579132e-04 1.30772591e-04\n",
      " 1.82986259e-04 2.92539597e-04 3.83734703e-04 1.62839890e-04\n",
      " 5.41210175e-05 2.70366669e-04 2.16960907e-05 2.86102295e-05\n",
      " 4.24623489e-04 3.38554382e-04 8.14318657e-04 1.29938126e-05\n",
      " 2.71558762e-04]\n",
      "param_alpha\n",
      "[0.0001 0.0001 0.0001 0.0001 0.0001 0.01 0.01 0.01 0.01 0.01 0.1 0.1 0.1\n",
      " 0.1 0.1 1.0 1.0 1.0 1.0 1.0 10 10 10 10 10]\n",
      "param_learning_rate_init\n",
      "[0.0001 0.001 0.01 0.1 1.0 0.0001 0.001 0.01 0.1 1.0 0.0001 0.001 0.01 0.1\n",
      " 1.0 0.0001 0.001 0.01 0.1 1.0 0.0001 0.001 0.01 0.1 1.0]\n",
      "params\n",
      "[{'alpha': 0.0001, 'learning_rate_init': 0.0001}, {'alpha': 0.0001, 'learning_rate_init': 0.001}, {'alpha': 0.0001, 'learning_rate_init': 0.01}, {'alpha': 0.0001, 'learning_rate_init': 0.1}, {'alpha': 0.0001, 'learning_rate_init': 1.0}, {'alpha': 0.01, 'learning_rate_init': 0.0001}, {'alpha': 0.01, 'learning_rate_init': 0.001}, {'alpha': 0.01, 'learning_rate_init': 0.01}, {'alpha': 0.01, 'learning_rate_init': 0.1}, {'alpha': 0.01, 'learning_rate_init': 1.0}, {'alpha': 0.1, 'learning_rate_init': 0.0001}, {'alpha': 0.1, 'learning_rate_init': 0.001}, {'alpha': 0.1, 'learning_rate_init': 0.01}, {'alpha': 0.1, 'learning_rate_init': 0.1}, {'alpha': 0.1, 'learning_rate_init': 1.0}, {'alpha': 1.0, 'learning_rate_init': 0.0001}, {'alpha': 1.0, 'learning_rate_init': 0.001}, {'alpha': 1.0, 'learning_rate_init': 0.01}, {'alpha': 1.0, 'learning_rate_init': 0.1}, {'alpha': 1.0, 'learning_rate_init': 1.0}, {'alpha': 10, 'learning_rate_init': 0.0001}, {'alpha': 10, 'learning_rate_init': 0.001}, {'alpha': 10, 'learning_rate_init': 0.01}, {'alpha': 10, 'learning_rate_init': 0.1}, {'alpha': 10, 'learning_rate_init': 1.0}]\n",
      "split0_test_score\n",
      "[0.96301037 0.9659351  0.95860309 0.09151637 0.09151637 0.96432375\n",
      " 0.96606966 0.97052687 0.09151637 0.09151637 0.96457422 0.96649037\n",
      " 0.966442   0.09151637 0.10116295 0.96448133 0.96805443 0.96834505\n",
      " 0.09151637 0.01936976 0.963712   0.96273131 0.89599788 0.10858461\n",
      " 0.39521315]\n",
      "split1_test_score\n",
      "[0.96513081 0.96846411 0.96430602 0.09157754 0.09157754 0.96663746\n",
      " 0.97015233 0.97352538 0.09157754 0.09157754 0.96443252 0.96677326\n",
      " 0.9671808  0.09157754 0.09157754 0.96248983 0.96923815 0.96430835\n",
      " 0.04720464 0.11958899 0.96293598 0.96343399 0.95993337 0.05056033\n",
      " 0.16642392]\n",
      "mean_test_score\n",
      "[0.96407059 0.96719961 0.96145455 0.09154695 0.09154695 0.9654806\n",
      " 0.968111   0.97202613 0.09154695 0.09154695 0.96450337 0.96663181\n",
      " 0.9668114  0.09154695 0.09637024 0.96348558 0.96864629 0.9663267\n",
      " 0.0693605  0.06947938 0.96332399 0.96308265 0.92796563 0.07957247\n",
      " 0.28081853]\n",
      "std_test_score\n",
      "[1.06022084e-03 1.26450941e-03 2.85146483e-03 3.05870207e-05\n",
      " 3.05870207e-05 1.15685593e-03 2.04133109e-03 1.49925574e-03\n",
      " 3.05870207e-05 3.05870207e-05 7.08517391e-05 1.41447969e-04\n",
      " 3.69403402e-04 3.05870207e-05 4.79270257e-03 9.95751037e-04\n",
      " 5.91860571e-04 2.01834724e-03 2.21558624e-02 5.01096164e-02\n",
      " 3.88012362e-04 3.51338139e-04 3.19677458e-02 2.90121384e-02\n",
      " 1.14394615e-01]\n",
      "rank_test_score\n",
      "[10  4 14 18 18  8  3  1 18 18  9  6  5 18 17 11  2  7 25 24 12 13 15 23\n",
      " 16]\n"
     ]
    }
   ],
   "source": [
    "from sklearn.neural_network import MLPClassifier\n",
    "\n",
    "nn = MLPClassifier(random_state=1, max_iter=300)\n",
    "parameters = {'alpha':[0.0001, 0.01, 0.1, 1.0, 10], 'learning_rate_init':[0.0001, 0.001, 0.01, 0.1, 1.0]}\n",
    "clf = GridSearchCV(nn, parameters, scoring='f1_macro', cv=2)\n",
    "clf.fit(X_train, y_train)\n",
    "for key in clf.cv_results_.keys():\n",
    "    print(key)\n",
    "    print(clf.cv_results_.get(key))\n",
    "    \n",
    "#{'alpha': 0.01, 'learning_rate_init': 0.001}"
   ]
  },
  {
   "cell_type": "code",
   "execution_count": null,
   "id": "e46bfa30-9974-4799-bb00-109ee22b905c",
   "metadata": {},
   "outputs": [],
   "source": []
  }
 ],
 "metadata": {
  "kernelspec": {
   "display_name": "Python 3.8",
   "language": "python",
   "name": "python3"
  },
  "language_info": {
   "codemirror_mode": {
    "name": "ipython",
    "version": 3
   },
   "file_extension": ".py",
   "mimetype": "text/x-python",
   "name": "python",
   "nbconvert_exporter": "python",
   "pygments_lexer": "ipython3",
   "version": "3.8.6"
  }
 },
 "nbformat": 4,
 "nbformat_minor": 5
}
