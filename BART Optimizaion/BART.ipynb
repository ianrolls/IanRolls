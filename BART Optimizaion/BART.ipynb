{
 "cells": [
  {
   "cell_type": "code",
   "execution_count": 92,
   "metadata": {},
   "outputs": [],
   "source": [
    "from gurobipy import *\n",
    "import numpy as np\n",
    "import pandas as pd"
   ]
  },
  {
   "cell_type": "code",
   "execution_count": 100,
   "metadata": {},
   "outputs": [
    {
     "name": "stdout",
     "output_type": "stream",
     "text": [
      "Riders:  33.0 Line:  [3]\n"
     ]
    }
   ],
   "source": [
    "#Getting all data into the IPYNB\n",
    "\n",
    "lineRuntime = np.array([\n",
    "    [1, 1.11],\n",
    "    [2, 0.77],\n",
    "    [3, 0.377],\n",
    "    [4, 0.923],\n",
    "    [5, 0.26],\n",
    "    [6, 0.706],\n",
    "    [7, 0.091]\n",
    "]).astype(float)\n",
    "\n",
    "hoursTimePeriod = np.array([\n",
    "    [\"Early_AM\", 1],\n",
    "    [\"AM_Peak\", 3],\n",
    "    [\"Mid-day\", 7],\n",
    "    [\"PM_Peak\", 3.5],\n",
    "    [\"Evening\", 1.5]\n",
    "])\n",
    "\n",
    "milesPerLine = np.array([\n",
    "    [1, 38.9],\n",
    "    [2, 27],\n",
    "    [3, 13.2],\n",
    "    [4, 32.3],\n",
    "    [5, 9.1],\n",
    "    [6, 24.7],\n",
    "    [7, 3.2]\n",
    "]).astype(float)\n",
    "\n",
    "def string_to_list(s):\n",
    "    if s == '':\n",
    "        return []\n",
    "    elif len(s) == 1:\n",
    "        return [int(s)]\n",
    "    else:\n",
    "        return list(map(int, s.split(',')))\n",
    "\n",
    "ridedata = pd.read_csv('ridedata.csv', index_col=0)\n",
    "ridedata = ridedata.fillna(0)\n",
    "ridedata = ridedata.values\n",
    "\n",
    "linedata = pd.read_csv('linedata.csv', index_col=0, converters={col: string_to_list for col in (range(1,len(ridedata)))})\n",
    "linedata = linedata.values\n",
    "\n",
    "print(\"Riders: \", ridedata[3, 5], \"Line: \", linedata[3,5])\n",
    "#From N. Berkeley -> Ashby. Should be 33 riders, line 3"
   ]
  },
  {
   "cell_type": "code",
   "execution_count": 104,
   "metadata": {},
   "outputs": [
    {
     "name": "stdout",
     "output_type": "stream",
     "text": [
      "Riders:  3.0 Line:  [3]\n"
     ]
    }
   ],
   "source": [
    "#Dividing Array By Time Periods\n",
    "\n",
    "time_sum = np.sum(hoursTimePeriod[:,1].astype(float))\n",
    "# for t in hoursTimePeriod[:,1].astype(float):\n",
    "h_t = 1\n",
    "ridedata_n = np.ceil(ridedata * (h_t/time_sum))\n",
    "print(\"Riders: \", ridedata_n[3, 5], \"Line: \", linedata[3,5])"
   ]
  },
  {
   "cell_type": "code",
   "execution_count": 103,
   "metadata": {},
   "outputs": [],
   "source": [
    "#Gurobi Stuff\n",
    "\n",
    "model = Model('BART Optimization')\n",
    "l = []\n",
    "for i in milesPerLine[:,0]:\n",
    "    l.append(model.addVar(vtype=GRB.INTEGER, lb=0, name='l{}'.format(i)))\n",
    "\n",
    "model.setObjective(quicksum(milesPerLine[i,1]*l[i] for i in range(len(l))), GRB.MINIMIZE)\n",
    "\n",
    "for k in range(1,len(l)+1):\n",
    "    pass\n",
    "    #Sum for (i,j):l_k <= 70 * h_t * lineRuntime[k, 1] * l[k]\n",
    "\n"
   ]
  },
  {
   "cell_type": "code",
   "execution_count": null,
   "metadata": {},
   "outputs": [],
   "source": []
  }
 ],
 "metadata": {
  "kernelspec": {
   "display_name": "Python 3",
   "language": "python",
   "name": "python3"
  },
  "language_info": {
   "codemirror_mode": {
    "name": "ipython",
    "version": 3
   },
   "file_extension": ".py",
   "mimetype": "text/x-python",
   "name": "python",
   "nbconvert_exporter": "python",
   "pygments_lexer": "ipython3",
   "version": "3.10.6"
  },
  "orig_nbformat": 4
 },
 "nbformat": 4,
 "nbformat_minor": 2
}
